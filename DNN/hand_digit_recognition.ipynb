{
  "nbformat": 4,
  "nbformat_minor": 0,
  "metadata": {
    "colab": {
      "name": "hand digit recognition.ipynb",
      "version": "0.3.2",
      "provenance": [],
      "collapsed_sections": []
    },
    "kernelspec": {
      "name": "python3",
      "display_name": "Python 3"
    },
    "accelerator": "GPU"
  },
  "cells": [
    {
      "cell_type": "code",
      "metadata": {
        "id": "xy1_8NqSr9B3",
        "colab_type": "code",
        "colab": {}
      },
      "source": [
        "from keras.datasets import mnist\n",
        "from keras.models import Sequential\n",
        "from keras.layers.core import Dense, Dropout, Activation, Flatten\n",
        "from keras.utils import np_utils"
      ],
      "execution_count": 0,
      "outputs": []
    },
    {
      "cell_type": "code",
      "metadata": {
        "id": "aSI_fKV2s1iC",
        "colab_type": "code",
        "colab": {}
      },
      "source": [
        "(x_train, y_train), (x_test, y_test) = mnist.load_data()"
      ],
      "execution_count": 0,
      "outputs": []
    },
    {
      "cell_type": "code",
      "metadata": {
        "id": "ek-d_IzdqhWk",
        "colab_type": "code",
        "colab": {}
      },
      "source": [
        "x_train = x_train.astype('float32')/255\n",
        "x_test = x_test.astype('float32')/255"
      ],
      "execution_count": 0,
      "outputs": []
    },
    {
      "cell_type": "code",
      "metadata": {
        "id": "7TQErDEmtxI6",
        "colab_type": "code",
        "colab": {}
      },
      "source": [
        "y_train = np_utils.to_categorical(y_train, 10)\n",
        "y_test = np_utils.to_categorical(y_test, 10)"
      ],
      "execution_count": 0,
      "outputs": []
    },
    {
      "cell_type": "code",
      "metadata": {
        "id": "mGHGnloJuLTX",
        "colab_type": "code",
        "colab": {}
      },
      "source": [
        "model = Sequential()"
      ],
      "execution_count": 0,
      "outputs": []
    },
    {
      "cell_type": "code",
      "metadata": {
        "id": "VlLx5wnjxina",
        "colab_type": "code",
        "colab": {}
      },
      "source": [
        "model.add(Flatten(input_shape=x_train.shape[1:]))"
      ],
      "execution_count": 0,
      "outputs": []
    },
    {
      "cell_type": "code",
      "metadata": {
        "id": "J_Ftb8-wx_S3",
        "colab_type": "code",
        "colab": {}
      },
      "source": [
        "model.add(Dense(512, activation='relu'))  "
      ],
      "execution_count": 0,
      "outputs": []
    },
    {
      "cell_type": "code",
      "metadata": {
        "id": "L1qv9NEW0DbO",
        "colab_type": "code",
        "colab": {}
      },
      "source": [
        "model.add(Dense(512, activation='relu'))"
      ],
      "execution_count": 0,
      "outputs": []
    },
    {
      "cell_type": "code",
      "metadata": {
        "id": "qVMdm-gR0HBk",
        "colab_type": "code",
        "colab": {}
      },
      "source": [
        "model.add(Dense(10, activation='softmax'))"
      ],
      "execution_count": 0,
      "outputs": []
    },
    {
      "cell_type": "code",
      "metadata": {
        "id": "ULRLhj7p0Qqi",
        "colab_type": "code",
        "outputId": "6bc0c997-7de2-42e7-84c7-2194b805a3e4",
        "colab": {
          "base_uri": "https://localhost:8080/",
          "height": 278
        }
      },
      "source": [
        "model.summary()"
      ],
      "execution_count": 0,
      "outputs": [
        {
          "output_type": "stream",
          "text": [
            "_________________________________________________________________\n",
            "Layer (type)                 Output Shape              Param #   \n",
            "=================================================================\n",
            "flatten_2 (Flatten)          (None, 784)               0         \n",
            "_________________________________________________________________\n",
            "dense_4 (Dense)              (None, 512)               401920    \n",
            "_________________________________________________________________\n",
            "dense_5 (Dense)              (None, 512)               262656    \n",
            "_________________________________________________________________\n",
            "dense_6 (Dense)              (None, 10)                5130      \n",
            "=================================================================\n",
            "Total params: 669,706\n",
            "Trainable params: 669,706\n",
            "Non-trainable params: 0\n",
            "_________________________________________________________________\n"
          ],
          "name": "stdout"
        }
      ]
    },
    {
      "cell_type": "code",
      "metadata": {
        "id": "eRWK9T5s0en_",
        "colab_type": "code",
        "colab": {}
      },
      "source": [
        "model.compile(loss='categorical_crossentropy', metrics=['accuracy'], optimizer='adam')"
      ],
      "execution_count": 0,
      "outputs": []
    },
    {
      "cell_type": "code",
      "metadata": {
        "id": "JBq7qzta0qbk",
        "colab_type": "code",
        "outputId": "b06cbcc7-d0a2-4992-ed1d-b938675c88f7",
        "colab": {
          "base_uri": "https://localhost:8080/",
          "height": 729
        }
      },
      "source": [
        "history = model.fit(x_train, y_train,\n",
        "          batch_size=128, epochs=20,\n",
        "          verbose=2,\n",
        "          validation_split=0.2, shuffle=True)"
      ],
      "execution_count": 0,
      "outputs": [
        {
          "output_type": "stream",
          "text": [
            "Train on 48000 samples, validate on 12000 samples\n",
            "Epoch 1/20\n",
            " - 1s - loss: 3.2497e-04 - acc: 0.9999 - val_loss: 0.0155 - val_acc: 0.9963\n",
            "Epoch 2/20\n",
            " - 1s - loss: 0.0012 - acc: 0.9996 - val_loss: 0.0316 - val_acc: 0.9931\n",
            "Epoch 3/20\n",
            " - 1s - loss: 0.0099 - acc: 0.9978 - val_loss: 0.0375 - val_acc: 0.9918\n",
            "Epoch 4/20\n",
            " - 1s - loss: 0.0106 - acc: 0.9972 - val_loss: 0.0550 - val_acc: 0.9872\n",
            "Epoch 5/20\n",
            " - 1s - loss: 0.0073 - acc: 0.9978 - val_loss: 0.0314 - val_acc: 0.9922\n",
            "Epoch 6/20\n",
            " - 1s - loss: 0.0026 - acc: 0.9991 - val_loss: 0.0230 - val_acc: 0.9938\n",
            "Epoch 7/20\n",
            " - 1s - loss: 0.0018 - acc: 0.9995 - val_loss: 0.0279 - val_acc: 0.9932\n",
            "Epoch 8/20\n",
            " - 1s - loss: 8.6964e-04 - acc: 0.9997 - val_loss: 0.0270 - val_acc: 0.9942\n",
            "Epoch 9/20\n",
            " - 1s - loss: 0.0105 - acc: 0.9974 - val_loss: 0.0294 - val_acc: 0.9931\n",
            "Epoch 10/20\n",
            " - 1s - loss: 0.0048 - acc: 0.9983 - val_loss: 0.0499 - val_acc: 0.9903\n",
            "Epoch 11/20\n",
            " - 1s - loss: 0.0015 - acc: 0.9996 - val_loss: 0.0292 - val_acc: 0.9937\n",
            "Epoch 12/20\n",
            " - 1s - loss: 0.0019 - acc: 0.9995 - val_loss: 0.0257 - val_acc: 0.9938\n",
            "Epoch 13/20\n",
            " - 1s - loss: 9.8960e-04 - acc: 0.9999 - val_loss: 0.0286 - val_acc: 0.9937\n",
            "Epoch 14/20\n",
            " - 1s - loss: 7.0323e-04 - acc: 0.9998 - val_loss: 0.0278 - val_acc: 0.9934\n",
            "Epoch 15/20\n",
            " - 1s - loss: 2.3924e-05 - acc: 1.0000 - val_loss: 0.0265 - val_acc: 0.9944\n",
            "Epoch 16/20\n",
            " - 1s - loss: 7.3370e-06 - acc: 1.0000 - val_loss: 0.0254 - val_acc: 0.9942\n",
            "Epoch 17/20\n",
            " - 1s - loss: 4.6274e-06 - acc: 1.0000 - val_loss: 0.0249 - val_acc: 0.9947\n",
            "Epoch 18/20\n",
            " - 1s - loss: 3.5676e-06 - acc: 1.0000 - val_loss: 0.0246 - val_acc: 0.9945\n",
            "Epoch 19/20\n",
            " - 1s - loss: 2.8091e-06 - acc: 1.0000 - val_loss: 0.0245 - val_acc: 0.9947\n",
            "Epoch 20/20\n",
            " - 1s - loss: 1.9753e-06 - acc: 1.0000 - val_loss: 0.0252 - val_acc: 0.9948\n"
          ],
          "name": "stdout"
        }
      ]
    },
    {
      "cell_type": "code",
      "metadata": {
        "id": "4s3F0YFx2QEl",
        "colab_type": "code",
        "outputId": "cd3ee2b6-e5bd-445b-fb61-ac0a53c06b8b",
        "colab": {
          "base_uri": "https://localhost:8080/",
          "height": 34
        }
      },
      "source": [
        "model.evaluate(x_test, y_test, verbose=0)"
      ],
      "execution_count": 0,
      "outputs": [
        {
          "output_type": "execute_result",
          "data": {
            "text/plain": [
              "[0.09739521280457586, 0.986]"
            ]
          },
          "metadata": {
            "tags": []
          },
          "execution_count": 36
        }
      ]
    },
    {
      "cell_type": "code",
      "metadata": {
        "id": "MAsetHTB8gUk",
        "colab_type": "code",
        "colab": {}
      },
      "source": [
        ""
      ],
      "execution_count": 0,
      "outputs": []
    },
    {
      "cell_type": "code",
      "metadata": {
        "id": "1rrAD0sO9S95",
        "colab_type": "code",
        "colab": {}
      },
      "source": [
        ""
      ],
      "execution_count": 0,
      "outputs": []
    }
  ]
}